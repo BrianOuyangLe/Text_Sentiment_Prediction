{
 "cells": [
  {
   "cell_type": "code",
   "execution_count": 4,
   "id": "46a2f474-f41a-4b50-8ab5-bd8a2791380e",
   "metadata": {},
   "outputs": [
    {
     "name": "stderr",
     "output_type": "stream",
     "text": [
      "[nltk_data] Downloading package punkt_tab to\n",
      "[nltk_data]     C:\\Users\\brian\\AppData\\Roaming\\nltk_data...\n",
      "[nltk_data]   Unzipping tokenizers\\punkt_tab.zip.\n"
     ]
    },
    {
     "data": {
      "text/plain": [
       "True"
      ]
     },
     "execution_count": 4,
     "metadata": {},
     "output_type": "execute_result"
    }
   ],
   "source": [
    "import numpy as np\n",
    "import pandas as pd\n",
    "import matplotlib.pyplot as plt\n",
    "\n",
    "import tensorflow as tf\n",
    "from gensim.models import Word2Vec\n",
    "from gensim.models import KeyedVectors\n",
    "import nltk\n",
    "nltk.download('punkt_tab')"
   ]
  },
  {
   "cell_type": "code",
   "execution_count": 15,
   "id": "b08939fe-3583-4943-897d-45e423a7fed1",
   "metadata": {},
   "outputs": [],
   "source": [
    "#loads pretrained model for vectorizing sentences, Word2Vec\n",
    "path = \"GoogleNews-vectors-negative300.bin.gz\"\n",
    "model = KeyedVectors.load_word2vec_format(path, binary=True, limit=20000)"
   ]
  },
  {
   "cell_type": "code",
   "execution_count": 16,
   "id": "d4b24e45-de75-4f66-b349-faaa5cb5d248",
   "metadata": {},
   "outputs": [],
   "source": [
    "#uses nltk to seperate sentence into words omitting punctuation\n",
    "test = (\"Hey! just wondering how you doing. This is a sample sentence!\")\n",
    "tokenizer = nltk.RegexpTokenizer(r'\\w+')\n",
    "tokens = tokenizer.tokenize(test)"
   ]
  },
  {
   "cell_type": "code",
   "execution_count": 32,
   "id": "526342a7-e094-45d5-a2f9-509be9b2d1f6",
   "metadata": {},
   "outputs": [
    {
     "data": {
      "text/plain": [
       "300"
      ]
     },
     "execution_count": 32,
     "metadata": {},
     "output_type": "execute_result"
    }
   ],
   "source": [
    "#averages all token vectors\n",
    "vector = [0]*300\n",
    "count = 0\n",
    "for i in tokens:\n",
    "    if i in model: #only adds tokens present in the model\n",
    "        vector += model.get_vector(i)\n",
    "        count += 1\n",
    "vector = vector/count\n",
    "len(vector)"
   ]
  },
  {
   "cell_type": "code",
   "execution_count": null,
   "id": "bb2f7ff8-e2de-41e1-a8d1-c46545f94a95",
   "metadata": {},
   "outputs": [],
   "source": []
  }
 ],
 "metadata": {
  "kernelspec": {
   "display_name": "tf_cpu",
   "language": "python",
   "name": "tf_cpu"
  },
  "language_info": {
   "codemirror_mode": {
    "name": "ipython",
    "version": 3
   },
   "file_extension": ".py",
   "mimetype": "text/x-python",
   "name": "python",
   "nbconvert_exporter": "python",
   "pygments_lexer": "ipython3",
   "version": "3.12.6"
  }
 },
 "nbformat": 4,
 "nbformat_minor": 5
}
