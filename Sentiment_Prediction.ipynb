{
 "cells": [
  {
   "cell_type": "code",
   "execution_count": 3,
   "id": "46a2f474-f41a-4b50-8ab5-bd8a2791380e",
   "metadata": {},
   "outputs": [
    {
     "name": "stderr",
     "output_type": "stream",
     "text": [
      "[nltk_data] Downloading package punkt_tab to\n",
      "[nltk_data]     C:\\Users\\brian\\AppData\\Roaming\\nltk_data...\n",
      "[nltk_data]   Package punkt_tab is already up-to-date!\n"
     ]
    },
    {
     "data": {
      "text/plain": [
       "True"
      ]
     },
     "execution_count": 3,
     "metadata": {},
     "output_type": "execute_result"
    }
   ],
   "source": [
    "import numpy as np\n",
    "import pandas as pd\n",
    "import matplotlib.pyplot as plt\n",
    "\n",
    "import tensorflow as tf\n",
    "from sklearn.model_selection import train_test_split\n",
    "\n",
    "from gensim.models import Word2Vec\n",
    "from gensim.models import KeyedVectors\n",
    "import nltk\n",
    "nltk.download('punkt_tab')"
   ]
  },
  {
   "cell_type": "code",
   "execution_count": 92,
   "id": "b08939fe-3583-4943-897d-45e423a7fed1",
   "metadata": {},
   "outputs": [
    {
     "data": {
      "text/plain": [
       "2000"
      ]
     },
     "execution_count": 92,
     "metadata": {},
     "output_type": "execute_result"
    }
   ],
   "source": [
    "#loads pretrained model for vectorizing sentences, Word2Vec\n",
    "path = \"GoogleNews-vectors-negative300.bin.gz\"\n",
    "model = KeyedVectors.load_word2vec_format(path, binary=True, limit = 2000)\n",
    "vocab_size = len(model.index_to_key)\n",
    "vocab_size"
   ]
  },
  {
   "cell_type": "code",
   "execution_count": 46,
   "id": "d4b24e45-de75-4f66-b349-faaa5cb5d248",
   "metadata": {},
   "outputs": [],
   "source": [
    "tokenizer = nltk.RegexpTokenizer(r'\\w+')\n",
    "def embedSentence(row):\n",
    "    #uses nltk to seperate sentence into words omitting punctuation\n",
    "    tokens = tokenizer.tokenize(row)\n",
    "    #averages all token vectors\n",
    "    vector = np.array([0]*300)\n",
    "    count = 0\n",
    "###################Need to fix bug with possible zero count\n",
    "    for i in tokens:\n",
    "        if i in model: #only adds tokens present in the model\n",
    "            vector = vector + model.get_vector(i)\n",
    "            count += 1\n",
    "    vector = vector/max(1, count)\n",
    "    return vector"
   ]
  },
  {
   "cell_type": "code",
   "execution_count": 82,
   "id": "bb2f7ff8-e2de-41e1-a8d1-c46545f94a95",
   "metadata": {},
   "outputs": [
    {
     "data": {
      "text/html": [
       "<div>\n",
       "<style scoped>\n",
       "    .dataframe tbody tr th:only-of-type {\n",
       "        vertical-align: middle;\n",
       "    }\n",
       "\n",
       "    .dataframe tbody tr th {\n",
       "        vertical-align: top;\n",
       "    }\n",
       "\n",
       "    .dataframe thead th {\n",
       "        text-align: right;\n",
       "    }\n",
       "</style>\n",
       "<table border=\"1\" class=\"dataframe\">\n",
       "  <thead>\n",
       "    <tr style=\"text-align: right;\">\n",
       "      <th></th>\n",
       "      <th>text</th>\n",
       "      <th>label</th>\n",
       "    </tr>\n",
       "  </thead>\n",
       "  <tbody>\n",
       "    <tr>\n",
       "      <th>0</th>\n",
       "      <td>i just feel really helpless and heavy hearted</td>\n",
       "      <td>4</td>\n",
       "    </tr>\n",
       "    <tr>\n",
       "      <th>1</th>\n",
       "      <td>ive enjoyed being able to slouch about relax a...</td>\n",
       "      <td>0</td>\n",
       "    </tr>\n",
       "    <tr>\n",
       "      <th>2</th>\n",
       "      <td>i gave up my internship with the dmrg and am f...</td>\n",
       "      <td>4</td>\n",
       "    </tr>\n",
       "    <tr>\n",
       "      <th>3</th>\n",
       "      <td>i dont know i feel so lost</td>\n",
       "      <td>0</td>\n",
       "    </tr>\n",
       "    <tr>\n",
       "      <th>4</th>\n",
       "      <td>i am a kindergarten teacher and i am thoroughl...</td>\n",
       "      <td>4</td>\n",
       "    </tr>\n",
       "    <tr>\n",
       "      <th>...</th>\n",
       "      <td>...</td>\n",
       "      <td>...</td>\n",
       "    </tr>\n",
       "    <tr>\n",
       "      <th>416804</th>\n",
       "      <td>i feel like telling these horny devils to find...</td>\n",
       "      <td>2</td>\n",
       "    </tr>\n",
       "    <tr>\n",
       "      <th>416805</th>\n",
       "      <td>i began to realize that when i was feeling agi...</td>\n",
       "      <td>3</td>\n",
       "    </tr>\n",
       "    <tr>\n",
       "      <th>416806</th>\n",
       "      <td>i feel very curious be why previous early dawn...</td>\n",
       "      <td>5</td>\n",
       "    </tr>\n",
       "    <tr>\n",
       "      <th>416807</th>\n",
       "      <td>i feel that becuase of the tyranical nature of...</td>\n",
       "      <td>3</td>\n",
       "    </tr>\n",
       "    <tr>\n",
       "      <th>416808</th>\n",
       "      <td>i think that after i had spent some time inves...</td>\n",
       "      <td>5</td>\n",
       "    </tr>\n",
       "  </tbody>\n",
       "</table>\n",
       "<p>416809 rows × 2 columns</p>\n",
       "</div>"
      ],
      "text/plain": [
       "                                                     text  label\n",
       "0           i just feel really helpless and heavy hearted      4\n",
       "1       ive enjoyed being able to slouch about relax a...      0\n",
       "2       i gave up my internship with the dmrg and am f...      4\n",
       "3                              i dont know i feel so lost      0\n",
       "4       i am a kindergarten teacher and i am thoroughl...      4\n",
       "...                                                   ...    ...\n",
       "416804  i feel like telling these horny devils to find...      2\n",
       "416805  i began to realize that when i was feeling agi...      3\n",
       "416806  i feel very curious be why previous early dawn...      5\n",
       "416807  i feel that becuase of the tyranical nature of...      3\n",
       "416808  i think that after i had spent some time inves...      5\n",
       "\n",
       "[416809 rows x 2 columns]"
      ]
     },
     "execution_count": 82,
     "metadata": {},
     "output_type": "execute_result"
    }
   ],
   "source": [
    "#loads emotion training csv\n",
    "df = pd.read_csv(\"emotions.csv\")\n",
    "df"
   ]
  },
  {
   "cell_type": "code",
   "execution_count": 102,
   "id": "cb05deba-0640-4f35-b6a6-994212c3f932",
   "metadata": {},
   "outputs": [],
   "source": [
    "#embeds all x from word to values\n",
    "df[\"text\"] = df[\"text\"].apply(embedSentence)\n"
   ]
  },
  {
   "cell_type": "code",
   "execution_count": 103,
   "id": "2fc5a0a1-836d-4d6d-8d91-d525b04c35ca",
   "metadata": {},
   "outputs": [],
   "source": [
    "X = df[\"text\"].values\n",
    "y = df[\"label\"].values"
   ]
  },
  {
   "cell_type": "code",
   "execution_count": 104,
   "id": "dd7bc357-27b7-4e82-9a97-2bb4277b7d0f",
   "metadata": {},
   "outputs": [],
   "source": [
    "X = np.stack(X).astype(np.float32)"
   ]
  },
  {
   "cell_type": "code",
   "execution_count": 105,
   "id": "70e00abc-2194-41ce-9f52-785acd650544",
   "metadata": {},
   "outputs": [],
   "source": [
    "#split x, y into training\n",
    "X_train, X_temp, y_train, y_temp = train_test_split(X, y, test_size=0.4, random_state=0)\n",
    "X_valid, X_test, y_valid, y_test = train_test_split(X_temp, y_temp, test_size=0.4, random_state=0)"
   ]
  },
  {
   "cell_type": "code",
   "execution_count": 106,
   "id": "dd8d53e8-9aa6-4fd8-a41c-a05c8c02d14f",
   "metadata": {},
   "outputs": [],
   "source": [
    "#builds tensorflow model\n",
    "tf_model = tf.keras.Sequential([\n",
    "                                tf.keras.layers.Dense(64, activation='relu'),\n",
    "                                tf.keras.layers.Dense(6, activation='softmax')\n",
    "                                ])"
   ]
  },
  {
   "cell_type": "code",
   "execution_count": 107,
   "id": "67a548fa-8206-4e99-a7ca-98d2610d837b",
   "metadata": {},
   "outputs": [],
   "source": [
    "tf_model.compile(optimizer=tf.keras.optimizers.Adam(learning_rate=0.001),\n",
    "                loss='sparse_categorical_crossentropy',\n",
    "                metrics=[\"accuracy\"])"
   ]
  },
  {
   "cell_type": "code",
   "execution_count": 108,
   "id": "079d6c38-c318-4919-aa7c-f5bb5b633ff7",
   "metadata": {},
   "outputs": [
    {
     "name": "stdout",
     "output_type": "stream",
     "text": [
      "\u001b[1m7816/7816\u001b[0m \u001b[32m━━━━━━━━━━━━━━━━━━━━\u001b[0m\u001b[37m\u001b[0m \u001b[1m7s\u001b[0m 771us/step - accuracy: 0.2933 - loss: 1.7487\n"
     ]
    },
    {
     "data": {
      "text/plain": [
       "[1.748745083808899, 0.2941639721393585]"
      ]
     },
     "execution_count": 108,
     "metadata": {},
     "output_type": "execute_result"
    }
   ],
   "source": [
    "tf_model.evaluate(X_train, y_train)"
   ]
  },
  {
   "cell_type": "code",
   "execution_count": 109,
   "id": "9f52221a-5f26-4136-95fa-6e860c4ddfdb",
   "metadata": {},
   "outputs": [
    {
     "name": "stdout",
     "output_type": "stream",
     "text": [
      "Epoch 1/5\n",
      "\u001b[1m15631/15631\u001b[0m \u001b[32m━━━━━━━━━━━━━━━━━━━━\u001b[0m\u001b[37m\u001b[0m \u001b[1m20s\u001b[0m 1ms/step - accuracy: 0.4028 - loss: 1.5008 - val_accuracy: 0.4088 - val_loss: 1.4713\n",
      "Epoch 2/5\n",
      "\u001b[1m15631/15631\u001b[0m \u001b[32m━━━━━━━━━━━━━━━━━━━━\u001b[0m\u001b[37m\u001b[0m \u001b[1m20s\u001b[0m 1ms/step - accuracy: 0.4242 - loss: 1.4558 - val_accuracy: 0.4230 - val_loss: 1.4541\n",
      "Epoch 3/5\n",
      "\u001b[1m15631/15631\u001b[0m \u001b[32m━━━━━━━━━━━━━━━━━━━━\u001b[0m\u001b[37m\u001b[0m \u001b[1m20s\u001b[0m 1ms/step - accuracy: 0.4272 - loss: 1.4487 - val_accuracy: 0.4274 - val_loss: 1.4443\n",
      "Epoch 4/5\n",
      "\u001b[1m15631/15631\u001b[0m \u001b[32m━━━━━━━━━━━━━━━━━━━━\u001b[0m\u001b[37m\u001b[0m \u001b[1m19s\u001b[0m 1ms/step - accuracy: 0.4321 - loss: 1.4421 - val_accuracy: 0.4237 - val_loss: 1.4478\n",
      "Epoch 5/5\n",
      "\u001b[1m15631/15631\u001b[0m \u001b[32m━━━━━━━━━━━━━━━━━━━━\u001b[0m\u001b[37m\u001b[0m \u001b[1m21s\u001b[0m 1ms/step - accuracy: 0.4345 - loss: 1.4336 - val_accuracy: 0.4298 - val_loss: 1.4407\n"
     ]
    },
    {
     "data": {
      "text/plain": [
       "<keras.src.callbacks.history.History at 0x21cf8692720>"
      ]
     },
     "execution_count": 109,
     "metadata": {},
     "output_type": "execute_result"
    }
   ],
   "source": [
    "tf_model.fit(X_train, y_train, batch_size=16, epochs = 5, validation_data=(X_valid, y_valid))"
   ]
  },
  {
   "cell_type": "code",
   "execution_count": null,
   "id": "ba98d5f7-d958-472d-8630-01c194a0dfd9",
   "metadata": {},
   "outputs": [],
   "source": []
  }
 ],
 "metadata": {
  "kernelspec": {
   "display_name": "tf_cpu",
   "language": "python",
   "name": "tf_cpu"
  },
  "language_info": {
   "codemirror_mode": {
    "name": "ipython",
    "version": 3
   },
   "file_extension": ".py",
   "mimetype": "text/x-python",
   "name": "python",
   "nbconvert_exporter": "python",
   "pygments_lexer": "ipython3",
   "version": "3.12.6"
  }
 },
 "nbformat": 4,
 "nbformat_minor": 5
}
