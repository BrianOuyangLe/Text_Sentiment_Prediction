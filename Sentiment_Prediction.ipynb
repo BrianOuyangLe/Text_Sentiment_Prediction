{
 "cells": [
  {
   "cell_type": "markdown",
   "id": "aedba867-8150-4ecc-8b9e-a488d0ef2a44",
   "metadata": {},
   "source": [
    "Packages"
   ]
  },
  {
   "cell_type": "code",
   "execution_count": 82,
   "id": "46a2f474-f41a-4b50-8ab5-bd8a2791380e",
   "metadata": {},
   "outputs": [],
   "source": [
    "import numpy as np\n",
    "import pandas as pd\n",
    "# import matplotlib.pyplot as plt # didn't use, can be deleted\n",
    "import tensorflow as tf\n",
    "from sklearn.model_selection import train_test_split\n",
    "from gensim.models import Word2Vec\n",
    "from gensim.models import KeyedVectors\n",
    "from nltk.corpus import stopwords\n",
    "from nltk.stem.porter import PorterStemmer"
   ]
  },
  {
   "cell_type": "code",
   "execution_count": 83,
   "id": "5b3b213e-1713-45c3-8a2b-b4d2d6d1cd73",
   "metadata": {},
   "outputs": [
    {
     "name": "stderr",
     "output_type": "stream",
     "text": [
      "[nltk_data] Downloading package punkt_tab to\n",
      "[nltk_data]     C:\\Users\\brian\\AppData\\Roaming\\nltk_data...\n",
      "[nltk_data]   Package punkt_tab is already up-to-date!\n",
      "[nltk_data] Downloading package stopwords to\n",
      "[nltk_data]     C:\\Users\\brian\\AppData\\Roaming\\nltk_data...\n",
      "[nltk_data]   Package stopwords is already up-to-date!\n"
     ]
    }
   ],
   "source": [
    "import nltk\n",
    "#seperating words\n",
    "nltk.download('punkt_tab')\n",
    "#removing insignificant words\n",
    "nltk.download('stopwords')\n",
    "stop_words = set(stopwords.words('english'))"
   ]
  },
  {
   "cell_type": "markdown",
   "id": "fc33694a-7c39-4797-80bf-b1a3737f94c9",
   "metadata": {},
   "source": [
    "Data Cleaning"
   ]
  },
  {
   "cell_type": "code",
   "execution_count": 84,
   "id": "830f0579-c19b-4ebc-b6ad-3a599807e9af",
   "metadata": {},
   "outputs": [
    {
     "data": {
      "text/html": [
       "<div>\n",
       "<style scoped>\n",
       "    .dataframe tbody tr th:only-of-type {\n",
       "        vertical-align: middle;\n",
       "    }\n",
       "\n",
       "    .dataframe tbody tr th {\n",
       "        vertical-align: top;\n",
       "    }\n",
       "\n",
       "    .dataframe thead th {\n",
       "        text-align: right;\n",
       "    }\n",
       "</style>\n",
       "<table border=\"1\" class=\"dataframe\">\n",
       "  <thead>\n",
       "    <tr style=\"text-align: right;\">\n",
       "      <th></th>\n",
       "      <th>text</th>\n",
       "      <th>label</th>\n",
       "    </tr>\n",
       "  </thead>\n",
       "  <tbody>\n",
       "    <tr>\n",
       "      <th>0</th>\n",
       "      <td>i just feel really helpless and heavy hearted</td>\n",
       "      <td>4</td>\n",
       "    </tr>\n",
       "    <tr>\n",
       "      <th>1</th>\n",
       "      <td>ive enjoyed being able to slouch about relax a...</td>\n",
       "      <td>0</td>\n",
       "    </tr>\n",
       "    <tr>\n",
       "      <th>2</th>\n",
       "      <td>i gave up my internship with the dmrg and am f...</td>\n",
       "      <td>4</td>\n",
       "    </tr>\n",
       "    <tr>\n",
       "      <th>3</th>\n",
       "      <td>i dont know i feel so lost</td>\n",
       "      <td>0</td>\n",
       "    </tr>\n",
       "    <tr>\n",
       "      <th>4</th>\n",
       "      <td>i am a kindergarten teacher and i am thoroughl...</td>\n",
       "      <td>4</td>\n",
       "    </tr>\n",
       "  </tbody>\n",
       "</table>\n",
       "</div>"
      ],
      "text/plain": [
       "                                                text  label\n",
       "0      i just feel really helpless and heavy hearted      4\n",
       "1  ive enjoyed being able to slouch about relax a...      0\n",
       "2  i gave up my internship with the dmrg and am f...      4\n",
       "3                         i dont know i feel so lost      0\n",
       "4  i am a kindergarten teacher and i am thoroughl...      4"
      ]
     },
     "execution_count": 84,
     "metadata": {},
     "output_type": "execute_result"
    }
   ],
   "source": [
    "#load data from csv\n",
    "emotions_data = pd.read_csv(\"emotions.csv\", encoding = \"UTF-8\")\n",
    "emotions_data.head(5)"
   ]
  },
  {
   "cell_type": "code",
   "execution_count": 85,
   "id": "fd3a24ca-5bc6-477b-b51e-3abb83f3af79",
   "metadata": {},
   "outputs": [
    {
     "data": {
      "text/plain": [
       "(416809, 2)"
      ]
     },
     "execution_count": 85,
     "metadata": {},
     "output_type": "execute_result"
    }
   ],
   "source": [
    "#shape of emotion data\n",
    "emotions_data.shape"
   ]
  },
  {
   "cell_type": "code",
   "execution_count": 86,
   "id": "a6d96b57-fa98-4020-b054-d63baed5457f",
   "metadata": {},
   "outputs": [
    {
     "data": {
      "text/plain": [
       "text     0\n",
       "label    0\n",
       "dtype: int64"
      ]
     },
     "execution_count": 86,
     "metadata": {},
     "output_type": "execute_result"
    }
   ],
   "source": [
    "#check for missing values in dataset\n",
    "emotions_data.isnull().sum()"
   ]
  },
  {
   "cell_type": "code",
   "execution_count": 87,
   "id": "29aa19eb-c271-4bc8-ba1f-657ca10fd923",
   "metadata": {},
   "outputs": [
    {
     "data": {
      "text/plain": [
       "label\n",
       "1    141067\n",
       "0    121187\n",
       "3     57317\n",
       "4     47712\n",
       "2     34554\n",
       "5     14972\n",
       "Name: count, dtype: int64"
      ]
     },
     "execution_count": 87,
     "metadata": {},
     "output_type": "execute_result"
    }
   ],
   "source": [
    "#check distribution of 'label' column\n",
    "emotions_data['label'].value_counts()"
   ]
  },
  {
   "cell_type": "code",
   "execution_count": 88,
   "id": "d96c74fe-ea74-48ad-980c-ce33c4490a5b",
   "metadata": {},
   "outputs": [
    {
     "data": {
      "text/plain": [
       "label\n",
       "0    14972\n",
       "1    14972\n",
       "2    14972\n",
       "3    14972\n",
       "4    14972\n",
       "5    14972\n",
       "Name: count, dtype: int64"
      ]
     },
     "execution_count": 88,
     "metadata": {},
     "output_type": "execute_result"
    }
   ],
   "source": [
    "#downsample\n",
    "min_count = emotions_data['label'].value_counts().min()\n",
    "selected_cols = ['label'] + [col for col in emotions_data.columns if col != 'label']\n",
    "emotions_data = emotions_data.groupby('label')[selected_cols].apply(lambda x: x.sample(min_count, random_state=18)).reset_index(drop=True)\n",
    "emotions_data['label'].value_counts()"
   ]
  },
  {
   "cell_type": "code",
   "execution_count": 89,
   "id": "dbdf3ff4-49fe-4c5a-9adb-17bdb9b07bed",
   "metadata": {},
   "outputs": [
    {
     "data": {
      "text/html": [
       "<div>\n",
       "<style scoped>\n",
       "    .dataframe tbody tr th:only-of-type {\n",
       "        vertical-align: middle;\n",
       "    }\n",
       "\n",
       "    .dataframe tbody tr th {\n",
       "        vertical-align: top;\n",
       "    }\n",
       "\n",
       "    .dataframe thead th {\n",
       "        text-align: right;\n",
       "    }\n",
       "</style>\n",
       "<table border=\"1\" class=\"dataframe\">\n",
       "  <thead>\n",
       "    <tr style=\"text-align: right;\">\n",
       "      <th></th>\n",
       "      <th>label</th>\n",
       "      <th>text</th>\n",
       "    </tr>\n",
       "  </thead>\n",
       "  <tbody>\n",
       "    <tr>\n",
       "      <th>0</th>\n",
       "      <td>0</td>\n",
       "      <td>i always feel like abby is being punished for ...</td>\n",
       "    </tr>\n",
       "    <tr>\n",
       "      <th>1</th>\n",
       "      <td>0</td>\n",
       "      <td>i used to feel devastated when someone critici...</td>\n",
       "    </tr>\n",
       "    <tr>\n",
       "      <th>2</th>\n",
       "      <td>0</td>\n",
       "      <td>i feel like i ve lost someone utterly irreplac...</td>\n",
       "    </tr>\n",
       "    <tr>\n",
       "      <th>3</th>\n",
       "      <td>0</td>\n",
       "      <td>i go and feel morose about this</td>\n",
       "    </tr>\n",
       "    <tr>\n",
       "      <th>4</th>\n",
       "      <td>0</td>\n",
       "      <td>i had been feeling out my more submissive side...</td>\n",
       "    </tr>\n",
       "    <tr>\n",
       "      <th>5</th>\n",
       "      <td>0</td>\n",
       "      <td>i lacked just reinforced my feelings of guilt ...</td>\n",
       "    </tr>\n",
       "    <tr>\n",
       "      <th>6</th>\n",
       "      <td>0</td>\n",
       "      <td>i was for the first time since i came over her...</td>\n",
       "    </tr>\n",
       "    <tr>\n",
       "      <th>7</th>\n",
       "      <td>0</td>\n",
       "      <td>i had so many peo ple to be grate ful for so w...</td>\n",
       "    </tr>\n",
       "    <tr>\n",
       "      <th>8</th>\n",
       "      <td>0</td>\n",
       "      <td>i love the sunset because after a tiring dayti...</td>\n",
       "    </tr>\n",
       "    <tr>\n",
       "      <th>9</th>\n",
       "      <td>0</td>\n",
       "      <td>im ashamed to admit it but i do have that comp...</td>\n",
       "    </tr>\n",
       "  </tbody>\n",
       "</table>\n",
       "</div>"
      ],
      "text/plain": [
       "   label                                               text\n",
       "0      0  i always feel like abby is being punished for ...\n",
       "1      0  i used to feel devastated when someone critici...\n",
       "2      0  i feel like i ve lost someone utterly irreplac...\n",
       "3      0                    i go and feel morose about this\n",
       "4      0  i had been feeling out my more submissive side...\n",
       "5      0  i lacked just reinforced my feelings of guilt ...\n",
       "6      0  i was for the first time since i came over her...\n",
       "7      0  i had so many peo ple to be grate ful for so w...\n",
       "8      0  i love the sunset because after a tiring dayti...\n",
       "9      0  im ashamed to admit it but i do have that comp..."
      ]
     },
     "execution_count": 89,
     "metadata": {},
     "output_type": "execute_result"
    }
   ],
   "source": [
    "emotions_data.head(10)"
   ]
  },
  {
   "cell_type": "markdown",
   "id": "8588f6c4-6e3e-453c-83b5-1c8954f77134",
   "metadata": {},
   "source": [
    "Word2Vec Word Embedding"
   ]
  },
  {
   "cell_type": "code",
   "execution_count": 9,
   "id": "b08939fe-3583-4943-897d-45e423a7fed1",
   "metadata": {},
   "outputs": [],
   "source": [
    "#loads pretrained model for vectorizing sentences, Word2Vec\n",
    "path = \"GoogleNews-vectors-negative300.bin.gz\"\n",
    "model = KeyedVectors.load_word2vec_format(path, binary=True)\n",
    "vocab_size = len(model.index_to_key)"
   ]
  },
  {
   "cell_type": "code",
   "execution_count": 90,
   "id": "27494133-aa79-470b-97cf-7df831152cbb",
   "metadata": {},
   "outputs": [],
   "source": [
    "meaningless_bank = [ # stop word bank\n",
    "    \"i\", \"me\", \"my\", \"myself\", \"we\", \"our\", \"ours\", \"ourselves\", \"you\", \"your\", \"yours\", \"yourself\", \n",
    "    \"yourselves\", \"he\", \"him\", \"his\", \"himself\", \"she\", \"her\", \"hers\", \"herself\", \"it\", \"its\", \"itself\", \n",
    "    \"they\", \"them\", \"their\", \"theirs\", \"themselves\", \"what\", \"which\", \"who\", \"whom\", \"this\", \"that\", \n",
    "    \"these\", \"those\", \"am\", \"is\", \"are\", \"was\", \"were\", \"be\", \"been\", \"being\", \"have\", \"has\", \"had\", \n",
    "    \"having\", \"do\", \"does\", \"did\", \"doing\", \"a\", \"an\", \"the\", \"and\", \"but\", \"if\", \"or\", \"because\", \n",
    "    \"as\", \"until\", \"while\", \"of\", \"at\", \"by\", \"for\", \"with\", \"about\", \"against\", \"between\", \"into\", \n",
    "    \"through\", \"during\", \"before\", \"after\", \"above\", \"below\", \"to\", \"from\", \"up\", \"down\", \"in\", \"out\", \n",
    "    \"on\", \"off\", \"over\", \"under\", \"again\", \"further\", \"then\", \"once\", \"here\", \"there\", \"when\", \"where\", \n",
    "    \"why\", \"how\", \"all\", \"any\", \"both\", \"each\", \"few\", \"more\", \"most\", \"other\", \"some\", \"such\", \"no\", \n",
    "    \"nor\", \"not\", \"only\", \"own\", \"same\", \"so\", \"than\", \"too\", \"very\", \"s\", \"t\", \"can\", \"will\", \"just\", \n",
    "    \"don\", \"should\", \"now\", \"uh\", \"um\", \"well\", \"like\", \"okay\", \"yeah\", \"oh\", \"ah\", \"er\", \"hm\", \"hmm\"\n",
    "]"
   ]
  },
  {
   "cell_type": "code",
   "execution_count": 91,
   "id": "d4b24e45-de75-4f66-b349-faaa5cb5d248",
   "metadata": {},
   "outputs": [],
   "source": [
    "#method for mean pooling\n",
    "tokenizer = nltk.RegexpTokenizer(r'\\w+')\n",
    "def embedSentence_meanPooling(row):\n",
    "    #uses nltk to seperate sentence into words omitting punctuation\n",
    "    tokens = tokenizer.tokenize(row)\n",
    "    #averages all token vectors\n",
    "    vector = np.array([0]*300)\n",
    "    count = 0\n",
    "    for i in tokens:\n",
    "        #skips stopwords\n",
    "        if i in stop_words:\n",
    "            continue\n",
    "        #only adds tokens present in the model\n",
    "        if i in model:\n",
    "            vector = vector + model.get_vector(i)\n",
    "            count += 1\n",
    "    vector = vector/max(1, count)\n",
    "    return vector"
   ]
  },
  {
   "cell_type": "code",
   "execution_count": 92,
   "id": "007c1a19-29a9-41b1-82fc-1c8e231d0b35",
   "metadata": {},
   "outputs": [],
   "source": [
    "#method for max pooling\n",
    "tokenizer = nltk.RegexpTokenizer(r'\\w+')\n",
    "def embedSentence_maxPooling(row):\n",
    "    #uses nltk to seperate sentence into words omitting punctuation\n",
    "    tokens = tokenizer.tokenize(row)\n",
    "    #\n",
    "    vector = np.array([None]*300)\n",
    "    #\n",
    "    for i in tokens:\n",
    "        #skip stopwords\n",
    "        if i in stop_words:\n",
    "            continue\n",
    "        #only adds tokens present in the model\n",
    "        if i in model:\n",
    "            if vector[0] == None:\n",
    "                vector = model.get_vector(i).copy()\n",
    "            else:\n",
    "                for feature in range(len(vector)):\n",
    "                    if model.get_vector(i)[feature] > vector[feature]:\n",
    "                        vector[feature] = model.get_vector(i)[feature]\n",
    "    return vector"
   ]
  },
  {
   "cell_type": "code",
   "execution_count": 93,
   "id": "cb05deba-0640-4f35-b6a6-994212c3f932",
   "metadata": {},
   "outputs": [
    {
     "data": {
      "text/html": [
       "<div>\n",
       "<style scoped>\n",
       "    .dataframe tbody tr th:only-of-type {\n",
       "        vertical-align: middle;\n",
       "    }\n",
       "\n",
       "    .dataframe tbody tr th {\n",
       "        vertical-align: top;\n",
       "    }\n",
       "\n",
       "    .dataframe thead th {\n",
       "        text-align: right;\n",
       "    }\n",
       "</style>\n",
       "<table border=\"1\" class=\"dataframe\">\n",
       "  <thead>\n",
       "    <tr style=\"text-align: right;\">\n",
       "      <th></th>\n",
       "      <th>label</th>\n",
       "      <th>text</th>\n",
       "    </tr>\n",
       "  </thead>\n",
       "  <tbody>\n",
       "    <tr>\n",
       "      <th>0</th>\n",
       "      <td>0</td>\n",
       "      <td>[0.03204345703125, 0.037322998046875, 0.078208...</td>\n",
       "    </tr>\n",
       "    <tr>\n",
       "      <th>1</th>\n",
       "      <td>0</td>\n",
       "      <td>[0.059901646205357144, 0.04827880859375, 0.070...</td>\n",
       "    </tr>\n",
       "    <tr>\n",
       "      <th>2</th>\n",
       "      <td>0</td>\n",
       "      <td>[0.08094889322916667, 0.021000162760416666, 0....</td>\n",
       "    </tr>\n",
       "    <tr>\n",
       "      <th>3</th>\n",
       "      <td>0</td>\n",
       "      <td>[0.083984375, 0.06870524088541667, -0.04882812...</td>\n",
       "    </tr>\n",
       "    <tr>\n",
       "      <th>4</th>\n",
       "      <td>0</td>\n",
       "      <td>[-0.015956333705357144, 0.076171875, -0.036080...</td>\n",
       "    </tr>\n",
       "  </tbody>\n",
       "</table>\n",
       "</div>"
      ],
      "text/plain": [
       "   label                                               text\n",
       "0      0  [0.03204345703125, 0.037322998046875, 0.078208...\n",
       "1      0  [0.059901646205357144, 0.04827880859375, 0.070...\n",
       "2      0  [0.08094889322916667, 0.021000162760416666, 0....\n",
       "3      0  [0.083984375, 0.06870524088541667, -0.04882812...\n",
       "4      0  [-0.015956333705357144, 0.076171875, -0.036080..."
      ]
     },
     "execution_count": 93,
     "metadata": {},
     "output_type": "execute_result"
    }
   ],
   "source": [
    "#embeds all x from word to values\n",
    "emotions_data[\"text\"] = emotions_data[\"text\"].apply(embedSentence_meanPooling)\n",
    "emotions_data.head(5)"
   ]
  },
  {
   "cell_type": "code",
   "execution_count": 94,
   "id": "2fc5a0a1-836d-4d6d-8d91-d525b04c35ca",
   "metadata": {},
   "outputs": [],
   "source": [
    "#set input and output\n",
    "X = emotions_data[\"text\"].values\n",
    "y = emotions_data[\"label\"].values"
   ]
  },
  {
   "cell_type": "code",
   "execution_count": 101,
   "id": "dd7bc357-27b7-4e82-9a97-2bb4277b7d0f",
   "metadata": {},
   "outputs": [
    {
     "data": {
      "text/plain": [
       "(89832, 300)"
      ]
     },
     "execution_count": 101,
     "metadata": {},
     "output_type": "execute_result"
    }
   ],
   "source": [
    "#compress X into batch dimension vector to feed into tensorflow\n",
    "X = np.stack(X).astype(np.float32)\n",
    "X.shape"
   ]
  },
  {
   "cell_type": "code",
   "execution_count": 121,
   "id": "70e00abc-2194-41ce-9f52-785acd650544",
   "metadata": {},
   "outputs": [],
   "source": [
    "#split x, y into training\n",
    "X_train, X_temp, y_train, y_temp = train_test_split(X, y, test_size=0.4, random_state=0)\n",
    "X_valid, X_test, y_valid, y_test = train_test_split(X_temp, y_temp, test_size=0.4, random_state=0)"
   ]
  },
  {
   "cell_type": "code",
   "execution_count": 122,
   "id": "dd8d53e8-9aa6-4fd8-a41c-a05c8c02d14f",
   "metadata": {},
   "outputs": [],
   "source": [
    "#builds tensorflow model\n",
    "tf_model = tf.keras.Sequential([\n",
    "                                tf.keras.layers.Dense(12, activation='relu'),\n",
    "                                # tf.keras.layers.Dropout(0.15), # let each layer randomly forget some data, prevent overfitting\n",
    "                                # tf.keras.layers.BatchNormalization(), #  normalizes the activations (outputs) of the previous layer, make the training more stable\n",
    "                                tf.keras.layers.Dense(6, activation='softmax')\n",
    "                                ])"
   ]
  },
  {
   "cell_type": "code",
   "execution_count": 123,
   "id": "67a548fa-8206-4e99-a7ca-98d2610d837b",
   "metadata": {},
   "outputs": [],
   "source": [
    "tf_model.compile(optimizer=tf.keras.optimizers.Adam(learning_rate=0.001),\n",
    "                loss='sparse_categorical_crossentropy',\n",
    "                metrics=[\"accuracy\"])"
   ]
  },
  {
   "cell_type": "code",
   "execution_count": 124,
   "id": "079d6c38-c318-4919-aa7c-f5bb5b633ff7",
   "metadata": {},
   "outputs": [
    {
     "name": "stdout",
     "output_type": "stream",
     "text": [
      "\u001b[1m1685/1685\u001b[0m \u001b[32m━━━━━━━━━━━━━━━━━━━━\u001b[0m\u001b[37m\u001b[0m \u001b[1m1s\u001b[0m 684us/step - accuracy: 0.1730 - loss: 1.7953\n"
     ]
    },
    {
     "data": {
      "text/plain": [
       "[1.79551100730896, 0.17373235523700714]"
      ]
     },
     "execution_count": 124,
     "metadata": {},
     "output_type": "execute_result"
    }
   ],
   "source": [
    "tf_model.evaluate(X_train, y_train)\n",
    "# tf_model.evaluate(X, y) # using the original data is fine"
   ]
  },
  {
   "cell_type": "code",
   "execution_count": 125,
   "id": "9f52221a-5f26-4136-95fa-6e860c4ddfdb",
   "metadata": {},
   "outputs": [
    {
     "name": "stdout",
     "output_type": "stream",
     "text": [
      "Epoch 1/10\n",
      "\u001b[1m3369/3369\u001b[0m \u001b[32m━━━━━━━━━━━━━━━━━━━━\u001b[0m\u001b[37m\u001b[0m \u001b[1m4s\u001b[0m 1ms/step - accuracy: 0.5143 - loss: 1.3509 - val_accuracy: 0.6770 - val_loss: 0.9062\n",
      "Epoch 2/10\n",
      "\u001b[1m3369/3369\u001b[0m \u001b[32m━━━━━━━━━━━━━━━━━━━━\u001b[0m\u001b[37m\u001b[0m \u001b[1m4s\u001b[0m 1ms/step - accuracy: 0.6846 - loss: 0.8783 - val_accuracy: 0.6934 - val_loss: 0.8437\n",
      "Epoch 3/10\n",
      "\u001b[1m3369/3369\u001b[0m \u001b[32m━━━━━━━━━━━━━━━━━━━━\u001b[0m\u001b[37m\u001b[0m \u001b[1m4s\u001b[0m 1ms/step - accuracy: 0.7057 - loss: 0.8229 - val_accuracy: 0.7048 - val_loss: 0.8155\n",
      "Epoch 4/10\n",
      "\u001b[1m3369/3369\u001b[0m \u001b[32m━━━━━━━━━━━━━━━━━━━━\u001b[0m\u001b[37m\u001b[0m \u001b[1m4s\u001b[0m 1ms/step - accuracy: 0.7100 - loss: 0.8038 - val_accuracy: 0.7062 - val_loss: 0.8002\n",
      "Epoch 5/10\n",
      "\u001b[1m3369/3369\u001b[0m \u001b[32m━━━━━━━━━━━━━━━━━━━━\u001b[0m\u001b[37m\u001b[0m \u001b[1m3s\u001b[0m 1ms/step - accuracy: 0.7116 - loss: 0.7904 - val_accuracy: 0.7106 - val_loss: 0.7956\n",
      "Epoch 6/10\n",
      "\u001b[1m3369/3369\u001b[0m \u001b[32m━━━━━━━━━━━━━━━━━━━━\u001b[0m\u001b[37m\u001b[0m \u001b[1m4s\u001b[0m 1ms/step - accuracy: 0.7192 - loss: 0.7707 - val_accuracy: 0.7097 - val_loss: 0.7834\n",
      "Epoch 7/10\n",
      "\u001b[1m3369/3369\u001b[0m \u001b[32m━━━━━━━━━━━━━━━━━━━━\u001b[0m\u001b[37m\u001b[0m \u001b[1m4s\u001b[0m 1ms/step - accuracy: 0.7227 - loss: 0.7580 - val_accuracy: 0.7115 - val_loss: 0.7759\n",
      "Epoch 8/10\n",
      "\u001b[1m3369/3369\u001b[0m \u001b[32m━━━━━━━━━━━━━━━━━━━━\u001b[0m\u001b[37m\u001b[0m \u001b[1m4s\u001b[0m 1ms/step - accuracy: 0.7250 - loss: 0.7461 - val_accuracy: 0.7081 - val_loss: 0.7827\n",
      "Epoch 9/10\n",
      "\u001b[1m3369/3369\u001b[0m \u001b[32m━━━━━━━━━━━━━━━━━━━━\u001b[0m\u001b[37m\u001b[0m \u001b[1m4s\u001b[0m 1ms/step - accuracy: 0.7288 - loss: 0.7430 - val_accuracy: 0.7205 - val_loss: 0.7633\n",
      "Epoch 10/10\n",
      "\u001b[1m3369/3369\u001b[0m \u001b[32m━━━━━━━━━━━━━━━━━━━━\u001b[0m\u001b[37m\u001b[0m \u001b[1m4s\u001b[0m 1ms/step - accuracy: 0.7330 - loss: 0.7265 - val_accuracy: 0.7216 - val_loss: 0.7574\n"
     ]
    },
    {
     "data": {
      "text/plain": [
       "<keras.src.callbacks.history.History at 0x19c967e2ab0>"
      ]
     },
     "execution_count": 125,
     "metadata": {},
     "output_type": "execute_result"
    }
   ],
   "source": [
    "tf_model.fit(X_train, y_train, batch_size=16, epochs = 10, validation_data=(X_valid, y_valid))"
   ]
  },
  {
   "cell_type": "code",
   "execution_count": 131,
   "id": "4bc4d9ce-9a8b-46f2-836a-f10ddde78000",
   "metadata": {},
   "outputs": [
    {
     "name": "stdout",
     "output_type": "stream",
     "text": [
      "\u001b[1m1/1\u001b[0m \u001b[32m━━━━━━━━━━━━━━━━━━━━\u001b[0m\u001b[37m\u001b[0m \u001b[1m0s\u001b[0m 27ms/step\n"
     ]
    },
    {
     "data": {
      "text/plain": [
       "array([0], dtype=int64)"
      ]
     },
     "execution_count": 131,
     "metadata": {},
     "output_type": "execute_result"
    }
   ],
   "source": [
    "#test on one sample sentence: sadness (0), joy (1), love (2), anger (3), fear (4), and surprise (5)\n",
    "sample_sentence = np.stack(embedSentence_meanPooling(\"easy lemons\")).astype(np.float32)\n",
    "sample_sentence = np.expand_dims(sample_sentence, axis=0)  \n",
    "predicted = np.argmax(tf_model.predict(sample_sentence), axis=1)\n",
    "predicted"
   ]
  },
  {
   "cell_type": "code",
   "execution_count": 127,
   "id": "21c1234f-af84-4154-a307-df787b9b50e1",
   "metadata": {},
   "outputs": [
    {
     "name": "stdout",
     "output_type": "stream",
     "text": [
      "\u001b[1m450/450\u001b[0m \u001b[32m━━━━━━━━━━━━━━━━━━━━\u001b[0m\u001b[37m\u001b[0m \u001b[1m0s\u001b[0m 687us/step - accuracy: 0.7197 - loss: 0.7575\n"
     ]
    },
    {
     "data": {
      "text/plain": [
       "[0.7539156675338745, 0.7197022438049316]"
      ]
     },
     "execution_count": 127,
     "metadata": {},
     "output_type": "execute_result"
    }
   ],
   "source": [
    "tf_model.evaluate(X_test, y_test)"
   ]
  },
  {
   "cell_type": "code",
   "execution_count": null,
   "id": "f13f277c-8eb4-49d3-b91e-d483bd00186a",
   "metadata": {},
   "outputs": [],
   "source": []
  }
 ],
 "metadata": {
  "kernelspec": {
   "display_name": "tf_cpu",
   "language": "python",
   "name": "tf_cpu"
  },
  "language_info": {
   "codemirror_mode": {
    "name": "ipython",
    "version": 3
   },
   "file_extension": ".py",
   "mimetype": "text/x-python",
   "name": "python",
   "nbconvert_exporter": "python",
   "pygments_lexer": "ipython3",
   "version": "3.12.6"
  }
 },
 "nbformat": 4,
 "nbformat_minor": 5
}
