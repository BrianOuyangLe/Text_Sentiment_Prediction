{
 "cells": [
  {
   "cell_type": "markdown",
   "id": "aedba867-8150-4ecc-8b9e-a488d0ef2a44",
   "metadata": {},
   "source": [
    "Packages"
   ]
  },
  {
   "cell_type": "code",
   "execution_count": 1,
   "id": "46a2f474-f41a-4b50-8ab5-bd8a2791380e",
   "metadata": {},
   "outputs": [],
   "source": [
    "import numpy as np\n",
    "import pandas as pd\n",
    "import matplotlib.pyplot as plt\n",
    "import tensorflow as tf\n",
    "from sklearn.model_selection import train_test_split\n",
    "from gensim.models import Word2Vec\n",
    "from gensim.models import KeyedVectors\n",
    "from nltk.corpus import stopwords\n",
    "from nltk.stem.porter import PorterStemmer"
   ]
  },
  {
   "cell_type": "code",
   "execution_count": 2,
   "id": "5b3b213e-1713-45c3-8a2b-b4d2d6d1cd73",
   "metadata": {},
   "outputs": [
    {
     "name": "stderr",
     "output_type": "stream",
     "text": [
      "[nltk_data] Downloading package punkt_tab to\n",
      "[nltk_data]     C:\\Users\\brian\\AppData\\Roaming\\nltk_data...\n",
      "[nltk_data]   Package punkt_tab is already up-to-date!\n",
      "[nltk_data] Downloading package stopwords to\n",
      "[nltk_data]     C:\\Users\\brian\\AppData\\Roaming\\nltk_data...\n",
      "[nltk_data]   Package stopwords is already up-to-date!\n"
     ]
    },
    {
     "data": {
      "text/plain": [
       "True"
      ]
     },
     "execution_count": 2,
     "metadata": {},
     "output_type": "execute_result"
    }
   ],
   "source": [
    "import nltk\n",
    "#seperating words\n",
    "nltk.download('punkt_tab')\n",
    "#removing insignificant words\n",
    "nltk.download('stopwords')"
   ]
  },
  {
   "cell_type": "markdown",
   "id": "fc33694a-7c39-4797-80bf-b1a3737f94c9",
   "metadata": {},
   "source": [
    "Data Cleaning"
   ]
  },
  {
   "cell_type": "code",
   "execution_count": 3,
   "id": "830f0579-c19b-4ebc-b6ad-3a599807e9af",
   "metadata": {},
   "outputs": [
    {
     "data": {
      "text/html": [
       "<div>\n",
       "<style scoped>\n",
       "    .dataframe tbody tr th:only-of-type {\n",
       "        vertical-align: middle;\n",
       "    }\n",
       "\n",
       "    .dataframe tbody tr th {\n",
       "        vertical-align: top;\n",
       "    }\n",
       "\n",
       "    .dataframe thead th {\n",
       "        text-align: right;\n",
       "    }\n",
       "</style>\n",
       "<table border=\"1\" class=\"dataframe\">\n",
       "  <thead>\n",
       "    <tr style=\"text-align: right;\">\n",
       "      <th></th>\n",
       "      <th>text</th>\n",
       "      <th>label</th>\n",
       "    </tr>\n",
       "  </thead>\n",
       "  <tbody>\n",
       "    <tr>\n",
       "      <th>0</th>\n",
       "      <td>i just feel really helpless and heavy hearted</td>\n",
       "      <td>4</td>\n",
       "    </tr>\n",
       "    <tr>\n",
       "      <th>1</th>\n",
       "      <td>ive enjoyed being able to slouch about relax a...</td>\n",
       "      <td>0</td>\n",
       "    </tr>\n",
       "    <tr>\n",
       "      <th>2</th>\n",
       "      <td>i gave up my internship with the dmrg and am f...</td>\n",
       "      <td>4</td>\n",
       "    </tr>\n",
       "    <tr>\n",
       "      <th>3</th>\n",
       "      <td>i dont know i feel so lost</td>\n",
       "      <td>0</td>\n",
       "    </tr>\n",
       "    <tr>\n",
       "      <th>4</th>\n",
       "      <td>i am a kindergarten teacher and i am thoroughl...</td>\n",
       "      <td>4</td>\n",
       "    </tr>\n",
       "  </tbody>\n",
       "</table>\n",
       "</div>"
      ],
      "text/plain": [
       "                                                text  label\n",
       "0      i just feel really helpless and heavy hearted      4\n",
       "1  ive enjoyed being able to slouch about relax a...      0\n",
       "2  i gave up my internship with the dmrg and am f...      4\n",
       "3                         i dont know i feel so lost      0\n",
       "4  i am a kindergarten teacher and i am thoroughl...      4"
      ]
     },
     "execution_count": 3,
     "metadata": {},
     "output_type": "execute_result"
    }
   ],
   "source": [
    "#load data from csv\n",
    "emotions_data = pd.read_csv(\"emotions.csv\", encoding = \"UTF-8\")\n",
    "emotions_data.head(5)"
   ]
  },
  {
   "cell_type": "code",
   "execution_count": 4,
   "id": "fd3a24ca-5bc6-477b-b51e-3abb83f3af79",
   "metadata": {},
   "outputs": [
    {
     "data": {
      "text/plain": [
       "(416809, 2)"
      ]
     },
     "execution_count": 4,
     "metadata": {},
     "output_type": "execute_result"
    }
   ],
   "source": [
    "#shape of emotion data\n",
    "emotions_data.shape"
   ]
  },
  {
   "cell_type": "code",
   "execution_count": 5,
   "id": "a6d96b57-fa98-4020-b054-d63baed5457f",
   "metadata": {},
   "outputs": [
    {
     "data": {
      "text/plain": [
       "text     0\n",
       "label    0\n",
       "dtype: int64"
      ]
     },
     "execution_count": 5,
     "metadata": {},
     "output_type": "execute_result"
    }
   ],
   "source": [
    "#check for missing values in dataset\n",
    "emotions_data.isnull().sum()"
   ]
  },
  {
   "cell_type": "code",
   "execution_count": 6,
   "id": "29aa19eb-c271-4bc8-ba1f-657ca10fd923",
   "metadata": {},
   "outputs": [
    {
     "data": {
      "text/plain": [
       "label\n",
       "1    141067\n",
       "0    121187\n",
       "3     57317\n",
       "4     47712\n",
       "2     34554\n",
       "5     14972\n",
       "Name: count, dtype: int64"
      ]
     },
     "execution_count": 6,
     "metadata": {},
     "output_type": "execute_result"
    }
   ],
   "source": [
    "#check distribution of 'label' column\n",
    "emotions_data['label'].value_counts()"
   ]
  },
  {
   "cell_type": "code",
   "execution_count": 7,
   "id": "d96c74fe-ea74-48ad-980c-ce33c4490a5b",
   "metadata": {},
   "outputs": [
    {
     "data": {
      "text/plain": [
       "label\n",
       "0    14972\n",
       "1    14972\n",
       "2    14972\n",
       "3    14972\n",
       "4    14972\n",
       "5    14972\n",
       "Name: count, dtype: int64"
      ]
     },
     "execution_count": 7,
     "metadata": {},
     "output_type": "execute_result"
    }
   ],
   "source": [
    "#downsample\n",
    "min_count = emotions_data['label'].value_counts().min()\n",
    "selected_cols = ['label'] + [col for col in emotions_data.columns if col != 'label']\n",
    "emotions_data = emotions_data.groupby('label')[selected_cols].apply(lambda x: x.sample(min_count, random_state=18)).reset_index(drop=True)\n",
    "emotions_data['label'].value_counts()"
   ]
  },
  {
   "cell_type": "code",
   "execution_count": 8,
   "id": "dbdf3ff4-49fe-4c5a-9adb-17bdb9b07bed",
   "metadata": {},
   "outputs": [
    {
     "data": {
      "text/html": [
       "<div>\n",
       "<style scoped>\n",
       "    .dataframe tbody tr th:only-of-type {\n",
       "        vertical-align: middle;\n",
       "    }\n",
       "\n",
       "    .dataframe tbody tr th {\n",
       "        vertical-align: top;\n",
       "    }\n",
       "\n",
       "    .dataframe thead th {\n",
       "        text-align: right;\n",
       "    }\n",
       "</style>\n",
       "<table border=\"1\" class=\"dataframe\">\n",
       "  <thead>\n",
       "    <tr style=\"text-align: right;\">\n",
       "      <th></th>\n",
       "      <th>label</th>\n",
       "      <th>text</th>\n",
       "    </tr>\n",
       "  </thead>\n",
       "  <tbody>\n",
       "    <tr>\n",
       "      <th>0</th>\n",
       "      <td>0</td>\n",
       "      <td>i always feel like abby is being punished for ...</td>\n",
       "    </tr>\n",
       "    <tr>\n",
       "      <th>1</th>\n",
       "      <td>0</td>\n",
       "      <td>i used to feel devastated when someone critici...</td>\n",
       "    </tr>\n",
       "    <tr>\n",
       "      <th>2</th>\n",
       "      <td>0</td>\n",
       "      <td>i feel like i ve lost someone utterly irreplac...</td>\n",
       "    </tr>\n",
       "    <tr>\n",
       "      <th>3</th>\n",
       "      <td>0</td>\n",
       "      <td>i go and feel morose about this</td>\n",
       "    </tr>\n",
       "    <tr>\n",
       "      <th>4</th>\n",
       "      <td>0</td>\n",
       "      <td>i had been feeling out my more submissive side...</td>\n",
       "    </tr>\n",
       "    <tr>\n",
       "      <th>5</th>\n",
       "      <td>0</td>\n",
       "      <td>i lacked just reinforced my feelings of guilt ...</td>\n",
       "    </tr>\n",
       "    <tr>\n",
       "      <th>6</th>\n",
       "      <td>0</td>\n",
       "      <td>i was for the first time since i came over her...</td>\n",
       "    </tr>\n",
       "    <tr>\n",
       "      <th>7</th>\n",
       "      <td>0</td>\n",
       "      <td>i had so many peo ple to be grate ful for so w...</td>\n",
       "    </tr>\n",
       "    <tr>\n",
       "      <th>8</th>\n",
       "      <td>0</td>\n",
       "      <td>i love the sunset because after a tiring dayti...</td>\n",
       "    </tr>\n",
       "    <tr>\n",
       "      <th>9</th>\n",
       "      <td>0</td>\n",
       "      <td>im ashamed to admit it but i do have that comp...</td>\n",
       "    </tr>\n",
       "  </tbody>\n",
       "</table>\n",
       "</div>"
      ],
      "text/plain": [
       "   label                                               text\n",
       "0      0  i always feel like abby is being punished for ...\n",
       "1      0  i used to feel devastated when someone critici...\n",
       "2      0  i feel like i ve lost someone utterly irreplac...\n",
       "3      0                    i go and feel morose about this\n",
       "4      0  i had been feeling out my more submissive side...\n",
       "5      0  i lacked just reinforced my feelings of guilt ...\n",
       "6      0  i was for the first time since i came over her...\n",
       "7      0  i had so many peo ple to be grate ful for so w...\n",
       "8      0  i love the sunset because after a tiring dayti...\n",
       "9      0  im ashamed to admit it but i do have that comp..."
      ]
     },
     "execution_count": 8,
     "metadata": {},
     "output_type": "execute_result"
    }
   ],
   "source": [
    "emotions_data.head(10)"
   ]
  },
  {
   "cell_type": "markdown",
   "id": "8588f6c4-6e3e-453c-83b5-1c8954f77134",
   "metadata": {},
   "source": [
    "Word2Vec Word Embedding"
   ]
  },
  {
   "cell_type": "code",
   "execution_count": 9,
   "id": "b08939fe-3583-4943-897d-45e423a7fed1",
   "metadata": {},
   "outputs": [],
   "source": [
    "#loads pretrained model for vectorizing sentences, Word2Vec\n",
    "path = \"GoogleNews-vectors-negative300.bin.gz\"\n",
    "model = KeyedVectors.load_word2vec_format(path, binary=True)\n",
    "vocab_size = len(model.index_to_key)"
   ]
  },
  {
   "cell_type": "code",
   "execution_count": 10,
   "id": "d4b24e45-de75-4f66-b349-faaa5cb5d248",
   "metadata": {},
   "outputs": [],
   "source": [
    "#method for mean pooling\n",
    "tokenizer = nltk.RegexpTokenizer(r'\\w+')\n",
    "def embedSentence_meanPooling(row):\n",
    "    #uses nltk to seperate sentence into words omitting punctuation\n",
    "    tokens = tokenizer.tokenize(row)\n",
    "    #averages all token vectors\n",
    "    vector = np.array([0]*300)\n",
    "    count = 0\n",
    "    for i in tokens:\n",
    "        if i in model: #only adds tokens present in the model\n",
    "            vector = vector + model.get_vector(i)\n",
    "            count += 1\n",
    "    vector = vector/max(1, count)\n",
    "    return vector"
   ]
  },
  {
   "cell_type": "code",
   "execution_count": 11,
   "id": "cb05deba-0640-4f35-b6a6-994212c3f932",
   "metadata": {},
   "outputs": [],
   "source": [
    "#embeds all x from word to values\n",
    "emotions_data[\"text\"] = emotions_data[\"text\"].apply(embedSentence_meanPooling)"
   ]
  },
  {
   "cell_type": "code",
   "execution_count": 12,
   "id": "2fc5a0a1-836d-4d6d-8d91-d525b04c35ca",
   "metadata": {},
   "outputs": [],
   "source": [
    "#set input and output\n",
    "X = emotions_data[\"text\"].values\n",
    "y = emotions_data[\"label\"].values"
   ]
  },
  {
   "cell_type": "code",
   "execution_count": 13,
   "id": "dd7bc357-27b7-4e82-9a97-2bb4277b7d0f",
   "metadata": {},
   "outputs": [
    {
     "data": {
      "text/plain": [
       "(89832, 300)"
      ]
     },
     "execution_count": 13,
     "metadata": {},
     "output_type": "execute_result"
    }
   ],
   "source": [
    "#compress X into batch dimension vector to feed into tensorflow\n",
    "X = np.stack(X).astype(np.float32)\n",
    "X.shape"
   ]
  },
  {
   "cell_type": "code",
   "execution_count": 14,
   "id": "70e00abc-2194-41ce-9f52-785acd650544",
   "metadata": {},
   "outputs": [],
   "source": [
    "#split x, y into training\n",
    "X_train, X_temp, y_train, y_temp = train_test_split(X, y, test_size=0.4, random_state=0)\n",
    "X_valid, X_test, y_valid, y_test = train_test_split(X_temp, y_temp, test_size=0.4, random_state=0)"
   ]
  },
  {
   "cell_type": "code",
   "execution_count": 15,
   "id": "dd8d53e8-9aa6-4fd8-a41c-a05c8c02d14f",
   "metadata": {},
   "outputs": [],
   "source": [
    "#builds tensorflow model\n",
    "tf_model = tf.keras.Sequential([\n",
    "                                tf.keras.layers.Dense(12, activation='relu'),\n",
    "                                tf.keras.layers.Dense(6, activation='softmax')\n",
    "                                ])"
   ]
  },
  {
   "cell_type": "code",
   "execution_count": 16,
   "id": "67a548fa-8206-4e99-a7ca-98d2610d837b",
   "metadata": {},
   "outputs": [],
   "source": [
    "tf_model.compile(optimizer=tf.keras.optimizers.Adam(learning_rate=0.001),\n",
    "                loss='sparse_categorical_crossentropy',\n",
    "                metrics=[\"accuracy\"])"
   ]
  },
  {
   "cell_type": "code",
   "execution_count": 20,
   "id": "079d6c38-c318-4919-aa7c-f5bb5b633ff7",
   "metadata": {},
   "outputs": [
    {
     "name": "stdout",
     "output_type": "stream",
     "text": [
      "\u001b[1m1685/1685\u001b[0m \u001b[32m━━━━━━━━━━━━━━━━━━━━\u001b[0m\u001b[37m\u001b[0m \u001b[1m1s\u001b[0m 682us/step - accuracy: 0.7075 - loss: 0.8036\n"
     ]
    },
    {
     "data": {
      "text/plain": [
       "[0.8056967854499817, 0.707805335521698]"
      ]
     },
     "execution_count": 20,
     "metadata": {},
     "output_type": "execute_result"
    }
   ],
   "source": [
    "tf_model.evaluate(X_train, y_train)"
   ]
  },
  {
   "cell_type": "code",
   "execution_count": 18,
   "id": "9f52221a-5f26-4136-95fa-6e860c4ddfdb",
   "metadata": {},
   "outputs": [
    {
     "name": "stdout",
     "output_type": "stream",
     "text": [
      "Epoch 1/10\n",
      "\u001b[1m3369/3369\u001b[0m \u001b[32m━━━━━━━━━━━━━━━━━━━━\u001b[0m\u001b[37m\u001b[0m \u001b[1m5s\u001b[0m 1ms/step - accuracy: 0.4218 - loss: 1.5228 - val_accuracy: 0.6003 - val_loss: 1.0666\n",
      "Epoch 2/10\n",
      "\u001b[1m3369/3369\u001b[0m \u001b[32m━━━━━━━━━━━━━━━━━━━━\u001b[0m\u001b[37m\u001b[0m \u001b[1m4s\u001b[0m 1ms/step - accuracy: 0.6402 - loss: 1.0075 - val_accuracy: 0.6616 - val_loss: 0.9418\n",
      "Epoch 3/10\n",
      "\u001b[1m3369/3369\u001b[0m \u001b[32m━━━━━━━━━━━━━━━━━━━━\u001b[0m\u001b[37m\u001b[0m \u001b[1m4s\u001b[0m 1ms/step - accuracy: 0.6671 - loss: 0.9222 - val_accuracy: 0.6668 - val_loss: 0.9059\n",
      "Epoch 4/10\n",
      "\u001b[1m3369/3369\u001b[0m \u001b[32m━━━━━━━━━━━━━━━━━━━━\u001b[0m\u001b[37m\u001b[0m \u001b[1m4s\u001b[0m 1ms/step - accuracy: 0.6787 - loss: 0.8827 - val_accuracy: 0.6776 - val_loss: 0.8793\n",
      "Epoch 5/10\n",
      "\u001b[1m3369/3369\u001b[0m \u001b[32m━━━━━━━━━━━━━━━━━━━━\u001b[0m\u001b[37m\u001b[0m \u001b[1m4s\u001b[0m 1ms/step - accuracy: 0.6843 - loss: 0.8686 - val_accuracy: 0.6847 - val_loss: 0.8646\n",
      "Epoch 6/10\n",
      "\u001b[1m3369/3369\u001b[0m \u001b[32m━━━━━━━━━━━━━━━━━━━━\u001b[0m\u001b[37m\u001b[0m \u001b[1m4s\u001b[0m 1ms/step - accuracy: 0.6952 - loss: 0.8434 - val_accuracy: 0.6799 - val_loss: 0.8673\n",
      "Epoch 7/10\n",
      "\u001b[1m3369/3369\u001b[0m \u001b[32m━━━━━━━━━━━━━━━━━━━━\u001b[0m\u001b[37m\u001b[0m \u001b[1m4s\u001b[0m 1ms/step - accuracy: 0.6971 - loss: 0.8328 - val_accuracy: 0.6921 - val_loss: 0.8445\n",
      "Epoch 8/10\n",
      "\u001b[1m3369/3369\u001b[0m \u001b[32m━━━━━━━━━━━━━━━━━━━━\u001b[0m\u001b[37m\u001b[0m \u001b[1m4s\u001b[0m 1ms/step - accuracy: 0.7001 - loss: 0.8239 - val_accuracy: 0.6917 - val_loss: 0.8384\n",
      "Epoch 9/10\n",
      "\u001b[1m3369/3369\u001b[0m \u001b[32m━━━━━━━━━━━━━━━━━━━━\u001b[0m\u001b[37m\u001b[0m \u001b[1m4s\u001b[0m 1ms/step - accuracy: 0.7010 - loss: 0.8219 - val_accuracy: 0.6926 - val_loss: 0.8389\n",
      "Epoch 10/10\n",
      "\u001b[1m3369/3369\u001b[0m \u001b[32m━━━━━━━━━━━━━━━━━━━━\u001b[0m\u001b[37m\u001b[0m \u001b[1m4s\u001b[0m 1ms/step - accuracy: 0.7085 - loss: 0.7999 - val_accuracy: 0.6901 - val_loss: 0.8377\n"
     ]
    },
    {
     "data": {
      "text/plain": [
       "<keras.src.callbacks.history.History at 0x1856debbec0>"
      ]
     },
     "execution_count": 18,
     "metadata": {},
     "output_type": "execute_result"
    }
   ],
   "source": [
    "tf_model.fit(X_train, y_train, batch_size=16, epochs = 10, validation_data=(X_valid, y_valid))"
   ]
  },
  {
   "cell_type": "code",
   "execution_count": 21,
   "id": "4bc4d9ce-9a8b-46f2-836a-f10ddde78000",
   "metadata": {},
   "outputs": [
    {
     "name": "stdout",
     "output_type": "stream",
     "text": [
      "\u001b[1m1/1\u001b[0m \u001b[32m━━━━━━━━━━━━━━━━━━━━\u001b[0m\u001b[37m\u001b[0m \u001b[1m0s\u001b[0m 21ms/step\n"
     ]
    },
    {
     "data": {
      "text/plain": [
       "array([1], dtype=int64)"
      ]
     },
     "execution_count": 21,
     "metadata": {},
     "output_type": "execute_result"
    }
   ],
   "source": [
    "#test on one sample sentence: sadness (0), joy (1), love (2), anger (3), fear (4), and surprise (5)\n",
    "sample_sentence = np.stack(embedSentence_meanPooling(\"god i would happy dying right now\")).astype(np.float32)\n",
    "sample_sentence = np.expand_dims(sample_sentence, axis=0)   \n",
    "predicted = np.argmax(tf_model.predict(sample_sentence), axis=1)\n",
    "predicted"
   ]
  },
  {
   "cell_type": "code",
   "execution_count": null,
   "id": "6b92a5c8-5a58-49e3-99c5-017d4ae11139",
   "metadata": {},
   "outputs": [],
   "source": []
  }
 ],
 "metadata": {
  "kernelspec": {
   "display_name": "tf_cpu",
   "language": "python",
   "name": "tf_cpu"
  },
  "language_info": {
   "codemirror_mode": {
    "name": "ipython",
    "version": 3
   },
   "file_extension": ".py",
   "mimetype": "text/x-python",
   "name": "python",
   "nbconvert_exporter": "python",
   "pygments_lexer": "ipython3",
   "version": "3.12.6"
  }
 },
 "nbformat": 4,
 "nbformat_minor": 5
}
